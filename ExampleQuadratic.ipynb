{
 "cells": [
  {
   "cell_type": "markdown",
   "id": "642a841a",
   "metadata": {},
   "source": [
    "# Imports and Settings"
   ]
  },
  {
   "cell_type": "code",
   "execution_count": 1,
   "id": "21072e35",
   "metadata": {},
   "outputs": [],
   "source": [
    "import numpy as np\n",
    "import torch\n",
    "import pandas as pd\n",
    "from torch.utils.data import DataLoader\n",
    "import sys\n",
    "from time import process_time as timer\n",
    "import matplotlib.pyplot as plt\n",
    "from tqdm import tqdm\n",
    "from laplace import Laplace\n",
    "from utils.dataset import get_dataset\n",
    "from utils.models import get_mlp\n",
    "from utils.pytorch_learning import fit_map"
   ]
  },
  {
   "cell_type": "code",
   "execution_count": 2,
   "id": "1b916b25",
   "metadata": {},
   "outputs": [],
   "source": [
    "params = {\n",
    "        \"num_inducing\": 20,\n",
    "        \"bnn_structure\": [50, 50],\n",
    "        \"MAP_lr\": 0.001,\n",
    "        \"MAP_iterations\": 3000,\n",
    "        \"lr\": 0.001,\n",
    "        \"iterations\": 20000,\n",
    "        \"activation\": torch.nn.Tanh,\n",
    "        \"device\": \"cpu\",\n",
    "        \"dtype\": torch.float64,\n",
    "        \"seed\": 2147483647,\n",
    "        \"bb_alpha\": 0,\n",
    "        \"prior_std\": 1,\n",
    "        \"ll_std\": 1\n",
    "}"
   ]
  },
  {
   "cell_type": "code",
   "execution_count": 3,
   "id": "32677725",
   "metadata": {},
   "outputs": [
    {
     "data": {
      "text/plain": [
       "<torch._C.Generator at 0x7e27c0f6def0>"
      ]
     },
     "execution_count": 3,
     "metadata": {},
     "output_type": "execute_result"
    }
   ],
   "source": [
    "torch.manual_seed(params[\"seed\"])"
   ]
  },
  {
   "cell_type": "code",
   "execution_count": 4,
   "id": "247d24b6",
   "metadata": {},
   "outputs": [
    {
     "name": "stdout",
     "output_type": "stream",
     "text": [
      "Number of samples:  400\n",
      "Input dimension:  1\n",
      "Label dimension:  1\n",
      "Labels mean value:  0\n",
      "Labels standard deviation:  1\n"
     ]
    }
   ],
   "source": [
    "dataset = get_dataset(\"synthetic2\")\n",
    "train_dataset, train_test_dataset, test_dataset = dataset.get_split()"
   ]
  },
  {
   "cell_type": "code",
   "execution_count": 5,
   "id": "0019ab75",
   "metadata": {},
   "outputs": [],
   "source": [
    "batch_size = 100\n",
    "train_loader = DataLoader(train_dataset, batch_size=batch_size, shuffle = True)\n",
    "train_test_loader = DataLoader(train_test_dataset, batch_size=batch_size)\n",
    "test_loader = DataLoader(test_dataset, batch_size=batch_size)"
   ]
  },
  {
   "cell_type": "markdown",
   "id": "a3da005c",
   "metadata": {},
   "source": [
    "# MAP Learning"
   ]
  },
  {
   "cell_type": "code",
   "execution_count": 6,
   "id": "6943b375",
   "metadata": {},
   "outputs": [
    {
     "name": "stdout",
     "output_type": "stream",
     "text": [
      "Sequential(\n",
      "  (0): Linear(in_features=1, out_features=50, bias=True)\n",
      "  (1): Tanh()\n",
      "  (2): Linear(in_features=50, out_features=50, bias=True)\n",
      "  (3): Tanh()\n",
      "  (4): Linear(in_features=50, out_features=1, bias=True)\n",
      ")\n"
     ]
    },
    {
     "name": "stderr",
     "output_type": "stream",
     "text": [
      "Training : 100%|██████████| 12000/12000 [00:25<00:00, 473.19 iteration/s]\n"
     ]
    }
   ],
   "source": [
    "f = get_mlp(\n",
    "    train_dataset.inputs.shape[1],\n",
    "    train_dataset.targets.shape[1],\n",
    "    params[\"bnn_structure\"],\n",
    "    params[\"activation\"],\n",
    "    device=params[\"device\"],\n",
    "    dtype=params[\"dtype\"],\n",
    ")\n",
    "\n",
    "# Define optimizer and compile model\n",
    "opt = torch.optim.Adam(f.parameters(), lr=params[\"MAP_lr\"])\n",
    "criterion = torch.nn.MSELoss()\n",
    "\n",
    "# Set the number of training samples to generate\n",
    "# Train the model\n",
    "start = timer()\n",
    "\n",
    "loss = fit_map(\n",
    "    f,\n",
    "    train_loader,\n",
    "    opt,\n",
    "    criterion=torch.nn.MSELoss(),\n",
    "    use_tqdm=True,\n",
    "    return_loss=True,\n",
    "    iterations=12000,\n",
    "    device=params[\"device\"],\n",
    ")\n",
    "end = timer()"
   ]
  },
  {
   "cell_type": "code",
   "execution_count": 7,
   "id": "7d672aa5",
   "metadata": {},
   "outputs": [
    {
     "data": {
      "image/png": "[encoded data removed]",
      "text/plain": [
       "<Figure size 640x480 with 1 Axes>"
      ]
     },
     "metadata": {},
     "output_type": "display_data"
    }
   ],
   "source": [
    "plt.scatter(train_dataset.inputs, \n",
    "                train_dataset.targets, \n",
    "                label=\"Training points\")\n",
    "\n",
    "\n",
    "\n",
    "sort = np.argsort(test_dataset.inputs.flatten())\n",
    "\n",
    "\n",
    "plt.plot(\n",
    "    test_dataset.inputs.flatten()[sort],\n",
    "    f(torch.tensor(test_dataset.inputs)).detach().numpy().flatten()[sort],\n",
    "    label=\"Predictions\",\n",
    "    color=\"black\",\n",
    ")\n",
    "plt.show()"
   ]
  },
  {
   "cell_type": "markdown",
   "id": "617793de",
   "metadata": {},
   "source": [
    "# Quadratic Laplace"
   ]
  },
  {
   "cell_type": "code",
   "execution_count": 8,
   "id": "8ee872da",
   "metadata": {},
   "outputs": [],
   "source": [
    "# 'all', 'subnetwork' and 'last_layer'\n",
    "subset = \"all\"\n",
    "# 'full', 'kron', 'lowrank' and 'diag'\n",
    "hessian = \"quad\"\n",
    "X = test_dataset.inputs\n",
    "la = Laplace(f, \"regression\", subset_of_weights=subset, hessian_structure=hessian)"
   ]
  },
  {
   "cell_type": "code",
   "execution_count": 9,
   "id": "7767d17c",
   "metadata": {},
   "outputs": [
    {
     "data": {
      "text/plain": [
       "<laplace.baselaplace.MyLaplace at 0x7e26c714a290>"
      ]
     },
     "execution_count": 9,
     "metadata": {},
     "output_type": "execute_result"
    }
   ],
   "source": [
    "la"
   ]
  },
  {
   "cell_type": "code",
   "execution_count": 10,
   "id": "f9e5235b",
   "metadata": {},
   "outputs": [
    {
     "data": {
      "text/plain": [
       "<laplace.curvature.curvature.MyInterface at 0x7e26c714bfd0>"
      ]
     },
     "execution_count": 10,
     "metadata": {},
     "output_type": "execute_result"
    }
   ],
   "source": [
    "la.backend"
   ]
  },
  {
   "cell_type": "code",
   "execution_count": 12,
   "id": "cd8950ce",
   "metadata": {},
   "outputs": [
    {
     "data": {
      "text/plain": [
       "False"
      ]
     },
     "execution_count": 12,
     "metadata": {},
     "output_type": "execute_result"
    }
   ],
   "source": [
    "la.backend.last_layer"
   ]
  },
  {
   "cell_type": "code",
   "execution_count": 13,
   "id": "76f38ab1",
   "metadata": {},
   "outputs": [],
   "source": [
    "la.fit(train_loader)"
   ]
  },
  {
   "cell_type": "markdown",
   "id": "259a79fa",
   "metadata": {},
   "source": [
    "Dejar los hiperparam. iguales que los que salen con LLA (después se puede ver si cambian, pero para hacer una comparación más equitativa de primeras).\n",
    "\n",
    "Probar con los hiperparam sin optimizar y fijos de LLA."
   ]
  },
  {
   "cell_type": "code",
   "execution_count": 14,
   "id": "3a5fa915",
   "metadata": {},
   "outputs": [],
   "source": [
    "# En principio no hacemos optimización de hiperparámetros\n",
    "# Dejamos los que han salido mejores en el ejemplo de LLA\n",
    "prior_std = 2.156211072302787\n",
    "log_variance = -5.5347821004082105"
   ]
  },
  {
   "cell_type": "code",
   "execution_count": 15,
   "id": "fa1514d7",
   "metadata": {},
   "outputs": [],
   "source": [
    "def distribution_plot(model_predictive, name = None):\n",
    "    plt.rcParams[\"pdf.fonttype\"] = 42\n",
    "    plt.figure(figsize=(16,7))\n",
    "    mean, var = model_predictive(torch.tensor(test_dataset.inputs, dtype = params[\"dtype\"]))\n",
    "    mean = mean.detach().numpy()\n",
    "    var = var.detach().numpy() + np.exp(log_variance)\n",
    "    std = np.sqrt(var).flatten()\n",
    "    sort = np.argsort(test_dataset.inputs.flatten())\n",
    "\n",
    "    fig = plt.scatter(train_dataset.inputs, \n",
    "                    train_dataset.targets, \n",
    "                    color = \"black\")\n",
    "\n",
    "    plt.plot(\n",
    "        test_dataset.inputs.flatten()[sort],\n",
    "        mean.flatten()[sort],\n",
    "        color=\"cornflowerblue\",\n",
    "    )\n",
    "    plt.fill_between(\n",
    "        test_dataset.inputs.flatten()[sort],\n",
    "        mean.flatten()[sort] - 2 * std[sort],\n",
    "        mean.flatten()[sort] + 2 * std[sort],\n",
    "        alpha=0.2,\n",
    "        color=\"cornflowerblue\",\n",
    "    )\n",
    "\n",
    "    #plt.axis('off')\n",
    "    plt.ylim(-2.5 ,5)\n",
    "    fig.axes.get_xaxis().set_visible(False)\n",
    "    fig.axes.get_yaxis().set_visible(False)\n",
    "    if name is not None:\n",
    "        plt.savefig(\"./plots/\" + name+ \".pdf\", format=\"pdf\", bbox_inches='tight')\n",
    "    plt.show()"
   ]
  },
  {
   "cell_type": "code",
   "execution_count": 17,
   "id": "fd0be471",
   "metadata": {},
   "outputs": [
    {
     "data": {
      "text/plain": [
       "tensor([[ 5.8881e+25,  3.1074e+25,  7.6939e+24,  ..., -5.2678e+27,\n",
       "          1.4028e+27,  1.5612e+27],\n",
       "        [ 3.1074e+25,  7.6089e+25,  1.8529e+25,  ..., -7.8730e+27,\n",
       "          2.2026e+27,  8.1192e+27],\n",
       "        [ 7.6939e+24,  1.8529e+25,  4.5570e+24,  ..., -2.0035e+27,\n",
       "          5.7217e+26,  2.0592e+27],\n",
       "        ...,\n",
       "        [-5.2678e+27, -7.8730e+27, -2.0035e+27,  ...,  1.1091e+30,\n",
       "         -3.3798e+29, -9.5438e+29],\n",
       "        [ 1.4028e+27,  2.2026e+27,  5.7217e+26,  ..., -3.3798e+29,\n",
       "          1.0764e+29,  3.0464e+29],\n",
       "        [ 1.5612e+27,  8.1192e+27,  2.0592e+27,  ..., -9.5438e+29,\n",
       "          3.0464e+29,  1.1989e+30]], dtype=torch.float64)"
      ]
     },
     "execution_count": 17,
     "metadata": {},
     "output_type": "execute_result"
    }
   ],
   "source": [
    "la.H"
   ]
  },
  {
   "cell_type": "code",
   "execution_count": 16,
   "id": "d5f3c998",
   "metadata": {},
   "outputs": [
    {
     "ename": "_LinAlgError",
     "evalue": "linalg.cholesky: The factorization could not be completed because the input is not positive-definite (the leading minor of order 24 is not positive-definite).",
     "output_type": "error",
     "traceback": [
      "\u001b[0;31m---------------------------------------------------------------------------\u001b[0m",
      "\u001b[0;31m_LinAlgError\u001b[0m                              Traceback (most recent call last)",
      "Cell \u001b[0;32mIn[16], line 1\u001b[0m\n\u001b[0;32m----> 1\u001b[0m \u001b[43mdistribution_plot\u001b[49m\u001b[43m(\u001b[49m\u001b[43mla\u001b[49m\u001b[38;5;241;43m.\u001b[39;49m\u001b[43m_glm_predictive_distribution\u001b[49m\u001b[43m,\u001b[49m\u001b[43m \u001b[49m\u001b[38;5;124;43m\"\u001b[39;49m\u001b[38;5;124;43mQuadratic\u001b[39;49m\u001b[38;5;124;43m\"\u001b[39;49m\u001b[43m)\u001b[49m\n",
      "Cell \u001b[0;32mIn[15], line 4\u001b[0m, in \u001b[0;36mdistribution_plot\u001b[0;34m(model_predictive, name)\u001b[0m\n\u001b[1;32m      2\u001b[0m plt\u001b[38;5;241m.\u001b[39mrcParams[\u001b[38;5;124m\"\u001b[39m\u001b[38;5;124mpdf.fonttype\u001b[39m\u001b[38;5;124m\"\u001b[39m] \u001b[38;5;241m=\u001b[39m \u001b[38;5;241m42\u001b[39m\n\u001b[1;32m      3\u001b[0m plt\u001b[38;5;241m.\u001b[39mfigure(figsize\u001b[38;5;241m=\u001b[39m(\u001b[38;5;241m16\u001b[39m,\u001b[38;5;241m7\u001b[39m))\n\u001b[0;32m----> 4\u001b[0m mean, var \u001b[38;5;241m=\u001b[39m \u001b[43mmodel_predictive\u001b[49m\u001b[43m(\u001b[49m\u001b[43mtorch\u001b[49m\u001b[38;5;241;43m.\u001b[39;49m\u001b[43mtensor\u001b[49m\u001b[43m(\u001b[49m\u001b[43mtest_dataset\u001b[49m\u001b[38;5;241;43m.\u001b[39;49m\u001b[43minputs\u001b[49m\u001b[43m,\u001b[49m\u001b[43m \u001b[49m\u001b[43mdtype\u001b[49m\u001b[43m \u001b[49m\u001b[38;5;241;43m=\u001b[39;49m\u001b[43m \u001b[49m\u001b[43mparams\u001b[49m\u001b[43m[\u001b[49m\u001b[38;5;124;43m\"\u001b[39;49m\u001b[38;5;124;43mdtype\u001b[39;49m\u001b[38;5;124;43m\"\u001b[39;49m\u001b[43m]\u001b[49m\u001b[43m)\u001b[49m\u001b[43m)\u001b[49m\n\u001b[1;32m      5\u001b[0m mean \u001b[38;5;241m=\u001b[39m mean\u001b[38;5;241m.\u001b[39mdetach()\u001b[38;5;241m.\u001b[39mnumpy()\n\u001b[1;32m      6\u001b[0m var \u001b[38;5;241m=\u001b[39m var\u001b[38;5;241m.\u001b[39mdetach()\u001b[38;5;241m.\u001b[39mnumpy() \u001b[38;5;241m+\u001b[39m np\u001b[38;5;241m.\u001b[39mexp(log_variance)\n",
      "File \u001b[0;32m~/miniconda3/envs/laplace/lib/python3.10/site-packages/torch/utils/_contextlib.py:116\u001b[0m, in \u001b[0;36mcontext_decorator.<locals>.decorate_context\u001b[0;34m(*args, **kwargs)\u001b[0m\n\u001b[1;32m    113\u001b[0m \u001b[38;5;129m@functools\u001b[39m\u001b[38;5;241m.\u001b[39mwraps(func)\n\u001b[1;32m    114\u001b[0m \u001b[38;5;28;01mdef\u001b[39;00m\u001b[38;5;250m \u001b[39m\u001b[38;5;21mdecorate_context\u001b[39m(\u001b[38;5;241m*\u001b[39margs, \u001b[38;5;241m*\u001b[39m\u001b[38;5;241m*\u001b[39mkwargs):\n\u001b[1;32m    115\u001b[0m     \u001b[38;5;28;01mwith\u001b[39;00m ctx_factory():\n\u001b[0;32m--> 116\u001b[0m         \u001b[38;5;28;01mreturn\u001b[39;00m \u001b[43mfunc\u001b[49m\u001b[43m(\u001b[49m\u001b[38;5;241;43m*\u001b[39;49m\u001b[43margs\u001b[49m\u001b[43m,\u001b[49m\u001b[43m \u001b[49m\u001b[38;5;241;43m*\u001b[39;49m\u001b[38;5;241;43m*\u001b[39;49m\u001b[43mkwargs\u001b[49m\u001b[43m)\u001b[49m\n",
      "File \u001b[0;32m~/OneDrive/masterUAM/Investigación/Código/Proyecto/QuadraticLaplaceMethod/laplace/baselaplace.py:3449\u001b[0m, in \u001b[0;36mMyLaplace._glm_predictive_distribution\u001b[0;34m(self, X, joint, diagonal_output)\u001b[0m\n\u001b[1;32m   3439\u001b[0m \u001b[38;5;129m@torch\u001b[39m\u001b[38;5;241m.\u001b[39menable_grad()\n\u001b[1;32m   3440\u001b[0m \u001b[38;5;28;01mdef\u001b[39;00m\u001b[38;5;250m \u001b[39m\u001b[38;5;21m_glm_predictive_distribution\u001b[39m(\n\u001b[1;32m   3441\u001b[0m     \u001b[38;5;28mself\u001b[39m,\n\u001b[0;32m   (...)\u001b[0m\n\u001b[1;32m   3446\u001b[0m     \u001b[38;5;66;03m# Ahora mismo estamos probando regresión con salida en R, luego suponemos joint=false (calcularmos var, no covar)\u001b[39;00m\n\u001b[1;32m   3447\u001b[0m     \u001b[38;5;66;03m# Simulación montecarlo\u001b[39;00m\n\u001b[1;32m   3448\u001b[0m     num_samples \u001b[38;5;241m=\u001b[39m \u001b[38;5;241m50\u001b[39m\n\u001b[0;32m-> 3449\u001b[0m     thetas \u001b[38;5;241m=\u001b[39m \u001b[38;5;28;43mself\u001b[39;49m\u001b[38;5;241;43m.\u001b[39;49m\u001b[43msample\u001b[49m\u001b[43m(\u001b[49m\u001b[43mn_samples\u001b[49m\u001b[38;5;241;43m=\u001b[39;49m\u001b[43mnum_samples\u001b[49m\u001b[43m)\u001b[49m\n\u001b[1;32m   3450\u001b[0m     Js, f_mu \u001b[38;5;241m=\u001b[39m \u001b[38;5;28mself\u001b[39m\u001b[38;5;241m.\u001b[39mbackend\u001b[38;5;241m.\u001b[39mjacobians(X, enable_backprop\u001b[38;5;241m=\u001b[39m\u001b[38;5;28mself\u001b[39m\u001b[38;5;241m.\u001b[39menable_backprop)\n\u001b[1;32m   3452\u001b[0m     \u001b[38;5;66;03m#approx_out = f(x,theta_MAP) + Js^t (theta-theta_MAP) + 1/2 (theta-theta_MAP)^t P (theta-theta_MAP)\u001b[39;00m\n",
      "File \u001b[0;32m~/OneDrive/masterUAM/Investigación/Código/Proyecto/QuadraticLaplaceMethod/laplace/baselaplace.py:3473\u001b[0m, in \u001b[0;36mMyLaplace.sample\u001b[0;34m(self, n_samples, generator)\u001b[0m\n\u001b[1;32m   3465\u001b[0m samples \u001b[38;5;241m=\u001b[39m torch\u001b[38;5;241m.\u001b[39mrandn(\n\u001b[1;32m   3466\u001b[0m     n_samples,\n\u001b[1;32m   3467\u001b[0m     \u001b[38;5;28mself\u001b[39m\u001b[38;5;241m.\u001b[39mn_params,\n\u001b[0;32m   (...)\u001b[0m\n\u001b[1;32m   3470\u001b[0m     generator\u001b[38;5;241m=\u001b[39mgenerator,\n\u001b[1;32m   3471\u001b[0m )\n\u001b[1;32m   3472\u001b[0m \u001b[38;5;66;03m# (n_samples, n_params) x (n_params, n_params) -> (n_samples, n_params)\u001b[39;00m\n\u001b[0;32m-> 3473\u001b[0m samples \u001b[38;5;241m=\u001b[39m samples \u001b[38;5;241m@\u001b[39m \u001b[38;5;28;43mself\u001b[39;49m\u001b[38;5;241;43m.\u001b[39;49m\u001b[43mposterior_scale\u001b[49m\u001b[38;5;241m.\u001b[39mT\n\u001b[1;32m   3474\u001b[0m \u001b[38;5;28;01mreturn\u001b[39;00m \u001b[38;5;28mself\u001b[39m\u001b[38;5;241m.\u001b[39mmean\u001b[38;5;241m.\u001b[39mreshape(\u001b[38;5;241m1\u001b[39m, \u001b[38;5;28mself\u001b[39m\u001b[38;5;241m.\u001b[39mn_params) \u001b[38;5;241m+\u001b[39m samples\n",
      "File \u001b[0;32m~/OneDrive/masterUAM/Investigación/Código/Proyecto/QuadraticLaplaceMethod/laplace/baselaplace.py:3395\u001b[0m, in \u001b[0;36mMyLaplace.posterior_scale\u001b[0;34m(self)\u001b[0m\n\u001b[1;32m   3386\u001b[0m \u001b[38;5;250m\u001b[39m\u001b[38;5;124;03m\"\"\"Posterior scale (square root of the covariance), i.e.,\u001b[39;00m\n\u001b[1;32m   3387\u001b[0m \u001b[38;5;124;03m\\\\(P^{-\\\\frac{1}{2}}\\\\).\u001b[39;00m\n\u001b[1;32m   3388\u001b[0m \n\u001b[0;32m   (...)\u001b[0m\n\u001b[1;32m   3392\u001b[0m \u001b[38;5;124;03m    `(parameters, parameters)`\u001b[39;00m\n\u001b[1;32m   3393\u001b[0m \u001b[38;5;124;03m\"\"\"\u001b[39;00m\n\u001b[1;32m   3394\u001b[0m \u001b[38;5;28;01mif\u001b[39;00m \u001b[38;5;28mself\u001b[39m\u001b[38;5;241m.\u001b[39m_posterior_scale \u001b[38;5;129;01mis\u001b[39;00m \u001b[38;5;28;01mNone\u001b[39;00m:\n\u001b[0;32m-> 3395\u001b[0m     \u001b[38;5;28;43mself\u001b[39;49m\u001b[38;5;241;43m.\u001b[39;49m\u001b[43m_compute_scale\u001b[49m\u001b[43m(\u001b[49m\u001b[43m)\u001b[49m\n\u001b[1;32m   3396\u001b[0m \u001b[38;5;28;01mreturn\u001b[39;00m \u001b[38;5;28mself\u001b[39m\u001b[38;5;241m.\u001b[39m_posterior_scale\n",
      "File \u001b[0;32m~/OneDrive/masterUAM/Investigación/Código/Proyecto/QuadraticLaplaceMethod/laplace/baselaplace.py:3382\u001b[0m, in \u001b[0;36mMyLaplace._compute_scale\u001b[0;34m(self)\u001b[0m\n\u001b[1;32m   3381\u001b[0m \u001b[38;5;28;01mdef\u001b[39;00m\u001b[38;5;250m \u001b[39m\u001b[38;5;21m_compute_scale\u001b[39m(\u001b[38;5;28mself\u001b[39m) \u001b[38;5;241m-\u001b[39m\u001b[38;5;241m>\u001b[39m \u001b[38;5;28;01mNone\u001b[39;00m:\n\u001b[0;32m-> 3382\u001b[0m     \u001b[38;5;28mself\u001b[39m\u001b[38;5;241m.\u001b[39m_posterior_scale \u001b[38;5;241m=\u001b[39m \u001b[43minvsqrt_precision\u001b[49m\u001b[43m(\u001b[49m\u001b[38;5;28;43mself\u001b[39;49m\u001b[38;5;241;43m.\u001b[39;49m\u001b[43mposterior_precision\u001b[49m\u001b[43m)\u001b[49m\n",
      "File \u001b[0;32m~/OneDrive/masterUAM/Investigación/Código/Proyecto/QuadraticLaplaceMethod/laplace/utils/utils.py:129\u001b[0m, in \u001b[0;36minvsqrt_precision\u001b[0;34m(M)\u001b[0m\n\u001b[1;32m    118\u001b[0m \u001b[38;5;28;01mdef\u001b[39;00m\u001b[38;5;250m \u001b[39m\u001b[38;5;21minvsqrt_precision\u001b[39m(M: torch\u001b[38;5;241m.\u001b[39mTensor) \u001b[38;5;241m-\u001b[39m\u001b[38;5;241m>\u001b[39m torch\u001b[38;5;241m.\u001b[39mTensor:\n\u001b[1;32m    119\u001b[0m \u001b[38;5;250m    \u001b[39m\u001b[38;5;124;03m\"\"\"Compute ``M^{-0.5}`` as a tridiagonal matrix.\u001b[39;00m\n\u001b[1;32m    120\u001b[0m \n\u001b[1;32m    121\u001b[0m \u001b[38;5;124;03m    Parameters\u001b[39;00m\n\u001b[0;32m   (...)\u001b[0m\n\u001b[1;32m    127\u001b[0m \u001b[38;5;124;03m    M_invsqrt : torch.Tensor\u001b[39;00m\n\u001b[1;32m    128\u001b[0m \u001b[38;5;124;03m    \"\"\"\u001b[39;00m\n\u001b[0;32m--> 129\u001b[0m     \u001b[38;5;28;01mreturn\u001b[39;00m \u001b[43m_precision_to_scale_tril\u001b[49m\u001b[43m(\u001b[49m\u001b[43mM\u001b[49m\u001b[43m)\u001b[49m\n",
      "File \u001b[0;32m~/miniconda3/envs/laplace/lib/python3.10/site-packages/torch/distributions/multivariate_normal.py:81\u001b[0m, in \u001b[0;36m_precision_to_scale_tril\u001b[0;34m(P)\u001b[0m\n\u001b[1;32m     79\u001b[0m \u001b[38;5;28;01mdef\u001b[39;00m\u001b[38;5;250m \u001b[39m\u001b[38;5;21m_precision_to_scale_tril\u001b[39m(P):\n\u001b[1;32m     80\u001b[0m     \u001b[38;5;66;03m# Ref: https://nbviewer.jupyter.org/gist/fehiepsi/5ef8e09e61604f10607380467eb82006#Precision-to-scale_tril\u001b[39;00m\n\u001b[0;32m---> 81\u001b[0m     Lf \u001b[38;5;241m=\u001b[39m \u001b[43mtorch\u001b[49m\u001b[38;5;241;43m.\u001b[39;49m\u001b[43mlinalg\u001b[49m\u001b[38;5;241;43m.\u001b[39;49m\u001b[43mcholesky\u001b[49m\u001b[43m(\u001b[49m\u001b[43mtorch\u001b[49m\u001b[38;5;241;43m.\u001b[39;49m\u001b[43mflip\u001b[49m\u001b[43m(\u001b[49m\u001b[43mP\u001b[49m\u001b[43m,\u001b[49m\u001b[43m \u001b[49m\u001b[43m(\u001b[49m\u001b[38;5;241;43m-\u001b[39;49m\u001b[38;5;241;43m2\u001b[39;49m\u001b[43m,\u001b[49m\u001b[43m \u001b[49m\u001b[38;5;241;43m-\u001b[39;49m\u001b[38;5;241;43m1\u001b[39;49m\u001b[43m)\u001b[49m\u001b[43m)\u001b[49m\u001b[43m)\u001b[49m\n\u001b[1;32m     82\u001b[0m     L_inv \u001b[38;5;241m=\u001b[39m torch\u001b[38;5;241m.\u001b[39mtranspose(torch\u001b[38;5;241m.\u001b[39mflip(Lf, (\u001b[38;5;241m-\u001b[39m\u001b[38;5;241m2\u001b[39m, \u001b[38;5;241m-\u001b[39m\u001b[38;5;241m1\u001b[39m)), \u001b[38;5;241m-\u001b[39m\u001b[38;5;241m2\u001b[39m, \u001b[38;5;241m-\u001b[39m\u001b[38;5;241m1\u001b[39m)\n\u001b[1;32m     83\u001b[0m     Id \u001b[38;5;241m=\u001b[39m torch\u001b[38;5;241m.\u001b[39meye(P\u001b[38;5;241m.\u001b[39mshape[\u001b[38;5;241m-\u001b[39m\u001b[38;5;241m1\u001b[39m], dtype\u001b[38;5;241m=\u001b[39mP\u001b[38;5;241m.\u001b[39mdtype, device\u001b[38;5;241m=\u001b[39mP\u001b[38;5;241m.\u001b[39mdevice)\n",
      "\u001b[0;31m_LinAlgError\u001b[0m: linalg.cholesky: The factorization could not be completed because the input is not positive-definite (the leading minor of order 24 is not positive-definite)."
     ]
    },
    {
     "data": {
      "text/plain": [
       "<Figure size 1600x700 with 0 Axes>"
      ]
     },
     "metadata": {},
     "output_type": "display_data"
    }
   ],
   "source": [
    "distribution_plot(la._glm_predictive_distribution, \"Quadratic\")"
   ]
  }
 ],
 "metadata": {
  "kernelspec": {
   "display_name": "laplace",
   "language": "python",
   "name": "python3"
  },
  "language_info": {
   "codemirror_mode": {
    "name": "ipython",
    "version": 3
   },
   "file_extension": ".py",
   "mimetype": "text/x-python",
   "name": "python",
   "nbconvert_exporter": "python",
   "pygments_lexer": "ipython3",
   "version": "3.10.17"
  }
 },
 "nbformat": 4,
 "nbformat_minor": 5
}
